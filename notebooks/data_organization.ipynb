{
 "cells": [
  {
   "cell_type": "markdown",
   "id": "5b671b21",
   "metadata": {
    "vscode": {
     "languageId": "plaintext"
    }
   },
   "source": [
    "# data organization"
   ]
  },
  {
   "cell_type": "code",
   "execution_count": 1,
   "id": "c8c260d4",
   "metadata": {},
   "outputs": [],
   "source": [
    "import os\n",
    "import shutil"
   ]
  },
  {
   "cell_type": "code",
   "execution_count": 4,
   "id": "b389d149",
   "metadata": {},
   "outputs": [],
   "source": [
    "# !rm -rf ../data/aml_data/\n",
    "# !rm -rf ../data/aml_test/\n",
    "# !unzip ../data/data.zip"
   ]
  },
  {
   "cell_type": "code",
   "execution_count": 6,
   "id": "784e995f",
   "metadata": {},
   "outputs": [],
   "source": [
    "# !mv aml_data/ ../data/"
   ]
  },
  {
   "cell_type": "code",
   "execution_count": 11,
   "id": "bb680191",
   "metadata": {},
   "outputs": [],
   "source": [
    "#create a folder with all the images from the patient in the category\n",
    "root_dir= \"../data/aml_data/RUNX1_RUNX1T1\"\n",
    "root_dir= \"../data/aml_data/PML_RARA\"\n",
    "root_dir= \"../data/aml_data/NPM1\"\n",
    "root_dir= \"../data/aml_data/CBFB_MYH11\"\n",
    "root_dir= \"../data/aml_data/control\"\n",
    "for dir, subdir, files in os.walk(root_dir):\n",
    "\n",
    "    for subfolder in subdir:\n",
    "        src_path=os.path.join(dir, subfolder)\n",
    "        for file in os.listdir(src_path):\n",
    "            dst_path=os.path.join(dir,f\"{subfolder}_{file}\")\n",
    "            file_path=os.path.join(src_path,file)\n",
    "            shutil.move(file_path, dst_path)\n",
    "        shutil.rmtree(src_path)"
   ]
  },
  {
   "cell_type": "code",
   "execution_count": null,
   "id": "40cd636e",
   "metadata": {},
   "outputs": [
    {
     "name": "stdout",
     "output_type": "stream",
     "text": [
      "Moved 3542 files to ../data/aml_test/NPM1\n",
      "Moved 3442 files to ../data/aml_test/CBFB_MYH11\n",
      "Moved 2316 files to ../data/aml_test/PML_RARA\n",
      "Moved 4061 files to ../data/aml_test/control\n",
      "Moved 2880 files to ../data/aml_test/RUNX1_RUNX1T1\n"
     ]
    }
   ],
   "source": [
    "#Create Test Dataset ===>>> was not useful because image_from_directory doesnt work with tiff images\n",
    "import random\n",
    "import os\n",
    "import shutil\n",
    "\n",
    "# Paths\n",
    "source_dir = '../data/aml_data'           # Original dataset with 5 class subfolders\n",
    "test_dir = '../data/aml_test'               # New folder to store 20% test images\n",
    "test_split = 0.2                # 20%\n",
    "\n",
    "# Ensure the test directory exists\n",
    "os.makedirs(test_dir, exist_ok=True)\n",
    "\n",
    "# Loop through each class subfolder\n",
    "for class_name in os.listdir(source_dir):\n",
    "    class_source_path = os.path.join(source_dir, class_name)\n",
    "    class_test_path = os.path.join(test_dir, class_name)\n",
    "\n",
    "    # Only process directories\n",
    "    if not os.path.isdir(class_source_path):\n",
    "        continue\n",
    "\n",
    "    # Create class directory in test folder\n",
    "    os.makedirs(class_test_path, exist_ok=True)\n",
    "\n",
    "    # Get list of all image files in class\n",
    "    image_files = [\n",
    "        f for f in os.listdir(class_source_path)\n",
    "        if os.path.isfile(os.path.join(class_source_path, f))\n",
    "    ]\n",
    "\n",
    "    # Shuffle and select 20%\n",
    "    random.seed(123)\n",
    "    random.shuffle(image_files)\n",
    "    num_test = int(len(image_files) * test_split)\n",
    "    test_files = image_files[:num_test]\n",
    "\n",
    "    # Move selected files to test directory\n",
    "    for filename in test_files:\n",
    "        src = os.path.join(class_source_path, filename)\n",
    "        dst = os.path.join(class_test_path, filename)\n",
    "        shutil.move(src, dst)\n",
    "\n",
    "    print(f\"Moved {num_test} files to {class_test_path}\")\n"
   ]
  },
  {
   "cell_type": "markdown",
   "id": "50fdbcbb",
   "metadata": {},
   "source": []
  }
 ],
 "metadata": {
  "kernelspec": {
   "display_name": "aml_image",
   "language": "python",
   "name": "python3"
  },
  "language_info": {
   "codemirror_mode": {
    "name": "ipython",
    "version": 3
   },
   "file_extension": ".py",
   "mimetype": "text/x-python",
   "name": "python",
   "nbconvert_exporter": "python",
   "pygments_lexer": "ipython3",
   "version": "3.12.9"
  }
 },
 "nbformat": 4,
 "nbformat_minor": 5
}
